{
 "cells": [
  {
   "cell_type": "code",
   "execution_count": null,
   "id": "21b028ee",
   "metadata": {},
   "outputs": [],
   "source": [
    "from absl import app"
   ]
  },
  {
   "cell_type": "code",
   "execution_count": null,
   "id": "95b10bb6",
   "metadata": {
    "scrolled": false
   },
   "outputs": [],
   "source": [
    "import json\n",
    "\n",
    "filename = \"./reproduce/mave_positives.jsonl\"\n",
    "\n",
    "with open(filename) as file:\n",
    "    for i, line in enumerate(file):\n",
    "        json_data = json.loads(line)\n",
    "        print(i)\n",
    "        if i == 6:\n",
    "            break\n",
    "        print(json_data)\n"
   ]
  },
  {
   "cell_type": "code",
   "execution_count": null,
   "id": "e01461e5",
   "metadata": {},
   "outputs": [],
   "source": [
    "str = \"Fulok Women's Butt Lift Mid Rise Skinny Stretch Tights Pencil Pants\"\n",
    "for index, character in enumerate(str):\n",
    "    print(f\"Character: {character}, Position: {index}\")"
   ]
  },
  {
   "cell_type": "code",
   "execution_count": null,
   "id": "6fa4acd1",
   "metadata": {},
   "outputs": [],
   "source": [
    "start = len(str[33:66].split())\n",
    "word = str[33:66].split()[0]"
   ]
  },
  {
   "cell_type": "code",
   "execution_count": null,
   "id": "4874b097",
   "metadata": {},
   "outputs": [],
   "source": [
    "start"
   ]
  },
  {
   "cell_type": "code",
   "execution_count": null,
   "id": "47a513a1",
   "metadata": {},
   "outputs": [],
   "source": [
    "\n",
    "words = str.split()\n",
    "\n",
    "for index, word in enumerate(words):\n",
    "    print(f\"Word: {word}, Position: {index}\")\n"
   ]
  },
  {
   "cell_type": "code",
   "execution_count": null,
   "id": "1e267795",
   "metadata": {},
   "outputs": [],
   "source": [
    "import json\n",
    "\n",
    "filename = \"./reproduce/mave_positives.jsonl\"\n",
    "\n",
    "with open(filename) as file:\n",
    "    count = 0\n",
    "    for i, line in enumerate(file):\n",
    "        json_data = json.loads(line)\n",
    "        attributes = json_data.get('attributes', [])\n",
    "        for attribute in attributes:\n",
    "            evidences = attribute.get('evidences', [])\n",
    "            for evidence in evidences:\n",
    "                    pid = evidence.get('pid')\n",
    "                    if pid == 0:\n",
    "                        count += 1\n",
    "print(count)"
   ]
  },
  {
   "cell_type": "code",
   "execution_count": null,
   "id": "b1e618e9",
   "metadata": {},
   "outputs": [],
   "source": [
    "import json\n",
    "\n",
    "# Add the import statement and code block to read the JSONL file\n",
    "filename = \"./reproduce/mave_positives.jsonl\"\n",
    "\n",
    "max_title_length = 0\n",
    "\n",
    "with open(filename) as file:\n",
    "    for line in file:\n",
    "        json_data = json.loads(line)\n",
    "        title = json_data['paragraphs'][0]['text']\n",
    "        title_length = len(title)\n",
    "        if title_length > max_title_length:\n",
    "            max_title_length = title_length\n",
    "\n",
    "print(\"Maximum Title Length:\", max_title_length)\n"
   ]
  },
  {
   "cell_type": "code",
   "execution_count": null,
   "id": "e1497102",
   "metadata": {
    "scrolled": false
   },
   "outputs": [],
   "source": [
    "import json\n",
    "\n",
    "def convert_title_to_tags(title, val, attr,tags):\n",
    "    words = title.split()\n",
    "    atr = attr.split()\n",
    "    for i,word in enumerate(words):\n",
    "        if word == atr[0]:\n",
    "            tags[i] = 'B-' + val.upper()\n",
    "        elif word == atr[1]:\n",
    "            for j in range(len(words)):\n",
    "                tags[i]\n",
    "    return tags\n",
    "\n",
    "\n",
    "\n",
    "\n",
    "def create_bio_tag(data):\n",
    "    bio_tags = []\n",
    "    brand_found = False  # Flag to indicate if the brand is found in the paragraphs\n",
    "    for paragraph in data['paragraphs']:\n",
    "        if paragraph['source'] == 'title':\n",
    "            text = paragraph['text']\n",
    "            words = text.split()\n",
    "            bio_tags.extend(['O'] * len(words))\n",
    "            \n",
    "    for paragraph in data['paragraphs']:\n",
    "        if paragraph['source'] == 'brand':\n",
    "            brand = paragraph['text']\n",
    "    \n",
    "    bio_tags = convert_title_to_tags(text,\"brand\",brand,bio_tags)\n",
    "    \n",
    "    for attribute in data['attributes']:\n",
    "        for evidence in attribute['evidences']:\n",
    "            if evidence['pid'] == 0:\n",
    "                value = evidence.get('value')\n",
    "                bio_tags = convert_title_to_tags(text,value,bio_tags)\n",
    "\n",
    "    return bio_tags,text\n",
    "\n",
    "# Add the import statement and code block to read the JSONL file\n",
    "filename = \"./reproduce/mave_positives.jsonl\"\n",
    "\n",
    "with open(filename) as file:\n",
    "    for i, line in enumerate(file):\n",
    "        json_data = json.loads(line)\n",
    "        bio_tags,text = create_bio_tag(json_data)\n",
    "        print(text)\n",
    "        print(bio_tags)\n"
   ]
  },
  {
   "cell_type": "code",
   "execution_count": 1,
   "id": "73240b54",
   "metadata": {},
   "outputs": [],
   "source": [
    "# Create an empty list to store data\n",
    "data = []   "
   ]
  },
  {
   "cell_type": "code",
   "execution_count": 2,
   "id": "76705a12",
   "metadata": {},
   "outputs": [
    {
     "name": "stdout",
     "output_type": "stream",
     "text": [
      "done\n"
     ]
    }
   ],
   "source": [
    "import json\n",
    "\n",
    "def create_bio_tag(data):\n",
    "    bio_tags = []\n",
    "    brand_found = False  # Flag to indicate if the brand is found in the paragraphs\n",
    "    for paragraph in data['paragraphs']:\n",
    "        if paragraph['source'] == 'title':\n",
    "            text = paragraph['text']\n",
    "            words = text.split()\n",
    "            bio_tags.extend(['O'] * len(words))\n",
    "    count = 0       \n",
    "    for attribute in data['attributes']:\n",
    "        for evidence in attribute['evidences']:\n",
    "            if evidence['pid'] == 0:\n",
    "                count = count +1\n",
    "                #print(attribute)\n",
    "                begin = evidence['begin']\n",
    "                end = evidence['end']\n",
    "                \n",
    "                temp_list = text[begin:end].split()\n",
    "                #print(words)\n",
    "                #print(temp_list)\n",
    "                \n",
    "                save = 0\n",
    "                \n",
    "                for i,w in enumerate(words):\n",
    "                    if w == temp_list[0]:\n",
    "                        save=i\n",
    "                        break\n",
    "                bio_tags[save] = 'B-' + attribute['key'].upper()       \n",
    "                \n",
    "                for i in range(save + 1, save + len(temp_list)):\n",
    "                    bio_tags[i] = 'I-' + attribute['key'].upper()\n",
    "                    \n",
    "    for paragraph in data['paragraphs']:\n",
    "        if paragraph['source'] == 'brand':\n",
    "            brand = paragraph['text']\n",
    "            if brand in text:\n",
    "                xy = brand.split()\n",
    "                save = 0\n",
    "\n",
    "                for i,w in enumerate(words):\n",
    "                    if w == xy[0]:\n",
    "                        save=i\n",
    "                        break\n",
    "                bio_tags[save] = 'B-' + \"brand\".upper()       \n",
    "\n",
    "                for i in range(save + 1, save + len(xy)):\n",
    "                    bio_tags[i] = 'I-' + \"brand\".upper()\n",
    "\n",
    "\n",
    "    return words, bio_tags, text\n",
    "\n",
    "\n",
    "# Add the import statement and code block to read the JSONL file\n",
    "filename = \"./reproduce/mave_positives.jsonl\"\n",
    "\n",
    "with open(filename) as file:\n",
    "    count = 0\n",
    "    for i, line in enumerate(file):\n",
    "        if i!= 194040 and i != 199063 and i!=256682 and i != 310548 and i!= 312726 and i!=330771 and i!= 373251 and i!= 504419 and i!= 513347 and i!= 622027:\n",
    "            json_data = json.loads(line)\n",
    "            words, bio_tags, text = create_bio_tag(json_data)\n",
    "            # Create a dictionary for the row data\n",
    "            row_data = {'title': text, 'bio_tag': bio_tags}\n",
    "\n",
    "            # Append the row data to the list\n",
    "            data.append(row_data)\n",
    "    print(\"done\")       \n",
    "            "
   ]
  },
  {
   "cell_type": "code",
   "execution_count": 4,
   "id": "04728603",
   "metadata": {},
   "outputs": [],
   "source": [
    "# Create the DataFrame from the list of dictionaries\n",
    "import pandas as pd\n",
    "df = pd.DataFrame(data)\n",
    "\n",
    "# Save the DataFrame to a CSV file\n",
    "df.to_csv('output_ps.csv', index=False)"
   ]
  },
  {
   "cell_type": "code",
   "execution_count": 5,
   "id": "7bc08d6a",
   "metadata": {},
   "outputs": [
    {
     "name": "stdout",
     "output_type": "stream",
     "text": [
      "done\n"
     ]
    }
   ],
   "source": [
    "import json\n",
    "\n",
    "name= 'output_ps.txt'\n",
    "\n",
    "def create_bio_tag(data):\n",
    "    with open(name, 'a') as f:\n",
    "        for paragraph in data['paragraphs']:\n",
    "            if paragraph['source'] == 'title':\n",
    "                text = paragraph['text']\n",
    "\n",
    "        for paragraph in data['paragraphs']:\n",
    "            if paragraph['source'] == 'brand':\n",
    "                brand = paragraph['text']\n",
    "                if brand in text:\n",
    "                    f.write(text + \"$$$\" + \"brand\".upper() + \"$$$\" + brand + \"\\n\")\n",
    "\n",
    "\n",
    "        for attribute in data['attributes']:\n",
    "            for evidence in attribute['evidences']:\n",
    "                if evidence['pid'] == 0:\n",
    "                    f.write(text + \"$$$\" + attribute['key'].upper() + \"$$$\" + evidence['value'] + \"\\n\")\n",
    "\n",
    "\n",
    "# Add the import statement and code block to read the JSONL file\n",
    "filename = \"./reproduce/mave_positives.jsonl\"\n",
    "\n",
    "with open(filename) as file:\n",
    "    count = 0\n",
    "    for i, line in enumerate(file):\n",
    "        if i!= 194040 and i != 199063 and i!=256682 and i != 310548 and i!= 312726 and i!=330771 and i!= 373251 and i!= 504419 and i!= 513347 and i!= 622027:\n",
    "            json_data = json.loads(line)\n",
    "            create_bio_tag(json_data)\n",
    "    print(\"done\")       \n",
    "            "
   ]
  },
  {
   "cell_type": "code",
   "execution_count": 6,
   "id": "3eb234fb",
   "metadata": {},
   "outputs": [
    {
     "name": "stdout",
     "output_type": "stream",
     "text": [
      "done\n"
     ]
    }
   ],
   "source": [
    "import json\n",
    "\n",
    "name= 'output_ps.txt'\n",
    "\n",
    "def create_bio_tag(data):\n",
    "    with open(name, 'a') as f:\n",
    "        for paragraph in data['paragraphs']:\n",
    "            if paragraph['source'] == 'title':\n",
    "                text = paragraph['text']\n",
    "\n",
    "        for paragraph in data['paragraphs']:\n",
    "            if paragraph['source'] == 'brand':\n",
    "                brand = paragraph['text']\n",
    "                if brand in text:\n",
    "                    f.write(text + \"$$$\" + \"brand\".upper() + \"$$$\" + brand + \"\\n\")\n",
    "\n",
    "\n",
    "# Add the import statement and code block to read the JSONL file\n",
    "filename = \"./reproduce/mave_negatives.jsonl\"\n",
    "\n",
    "with open(filename) as file:\n",
    "    count = 0\n",
    "    for i, line in enumerate(file):\n",
    "        if i!= 194040 and i != 199063 and i!=256682 and i != 310548 and i!= 312726 and i!=330771 and i!= 373251 and i!= 504419 and i!= 513347 and i!= 622027:\n",
    "            json_data = json.loads(line)\n",
    "            create_bio_tag(json_data)\n",
    "    print(\"done\")       \n",
    "            "
   ]
  },
  {
   "cell_type": "code",
   "execution_count": 7,
   "id": "dc388fdb",
   "metadata": {},
   "outputs": [
    {
     "name": "stdout",
     "output_type": "stream",
     "text": [
      "done\n"
     ]
    }
   ],
   "source": [
    "import json\n",
    "\n",
    "def create_bio_tag(data):\n",
    "    bio_tags = []\n",
    "    brand_found = False  # Flag to indicate if the brand is found in the paragraphs\n",
    "    for paragraph in data['paragraphs']:\n",
    "        if paragraph['source'] == 'title':\n",
    "            text = paragraph['text']\n",
    "            words = text.split()\n",
    "            bio_tags.extend(['O'] * len(words))\n",
    "                    \n",
    "    for paragraph in data['paragraphs']:\n",
    "        if paragraph['source'] == 'brand':\n",
    "            brand = paragraph['text']\n",
    "            if brand in text:\n",
    "                xy = brand.split()\n",
    "                save = 0\n",
    "\n",
    "                for i,w in enumerate(words):\n",
    "                    if w == xy[0]:\n",
    "                        save=i\n",
    "                        break\n",
    "                bio_tags[save] = 'B-' + \"brand\".upper()       \n",
    "\n",
    "                for i in range(save + 1, save + len(xy)):\n",
    "                    bio_tags[i] = 'I-' + \"brand\".upper()\n",
    "\n",
    "\n",
    "    return words, bio_tags, text\n",
    "\n",
    "\n",
    "# Add the import statement and code block to read the JSONL file\n",
    "filename = \"./reproduce/mave_negatives.jsonl\"\n",
    "\n",
    "with open(filename) as file:\n",
    "    count = 0\n",
    "    for i, line in enumerate(file):\n",
    "        if i!= 194040 and i != 199063 and i!=256682 and i != 310548 and i!= 312726 and i!=330771 and i!= 373251 and i!= 504419 and i!= 513347 and i!= 622027:\n",
    "            json_data = json.loads(line)\n",
    "            words, bio_tags, text = create_bio_tag(json_data)\n",
    "            # Create a dictionary for the row data\n",
    "            row_data = {'title': text, 'bio_tag': bio_tags}\n",
    "\n",
    "            # Append the row data to the list\n",
    "            data.append(row_data)\n",
    "    print(\"done\")       \n",
    "            "
   ]
  },
  {
   "cell_type": "code",
   "execution_count": 8,
   "id": "f746d838",
   "metadata": {},
   "outputs": [],
   "source": [
    "df = pd.DataFrame(data)\n",
    "\n",
    "# Save the DataFrame to a CSV file\n",
    "df.to_csv('output_ps.csv', index=False)"
   ]
  },
  {
   "cell_type": "code",
   "execution_count": null,
   "id": "e4e8adaf",
   "metadata": {},
   "outputs": [],
   "source": []
  }
 ],
 "metadata": {
  "kernelspec": {
   "display_name": "venv",
   "language": "python",
   "name": "venv"
  },
  "language_info": {
   "codemirror_mode": {
    "name": "ipython",
    "version": 3
   },
   "file_extension": ".py",
   "mimetype": "text/x-python",
   "name": "python",
   "nbconvert_exporter": "python",
   "pygments_lexer": "ipython3",
   "version": "3.10.6"
  }
 },
 "nbformat": 4,
 "nbformat_minor": 5
}
